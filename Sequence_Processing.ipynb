{
 "cells": [
  {
   "cell_type": "code",
   "execution_count": 1,
   "metadata": {},
   "outputs": [],
   "source": [
    "import numpy as np\n",
    "import pandas as pd\n",
    "import csv\n",
    "Lines= []\n",
    "f = open(r'C:\\Users\\katuwawalaai\\Disorder_Super\\Consensus_Modelling\\417_PDB_ID_SEQ.txt')\n",
    "for line in f:\n",
    "    data_line = line.rstrip().split('\\t')\n",
    "    Lines.append(data_line)"
   ]
  },
  {
   "cell_type": "code",
   "execution_count": 9,
   "metadata": {},
   "outputs": [],
   "source": [
    "ID=[]\n",
    "AA_Sequence=[]\n",
    "J = len(Lines)-2\n",
    "b =0\n",
    "for b in range(0,J,3):\n",
    "    ID.append(Lines[b][0])\n",
    "    AA_Sequence.append(Lines[b+1][0])"
   ]
  },
  {
   "cell_type": "code",
   "execution_count": 11,
   "metadata": {},
   "outputs": [],
   "source": [
    "b=0\n",
    "Sequences=[]\n",
    "for b in range(0, len(AA_Sequence), 1):\n",
    "             x = ID[b]\n",
    "             y = AA_Sequence[b]\n",
    "             Sequences.append(x)\n",
    "             Sequences.append(y)"
   ]
  },
  {
   "cell_type": "code",
   "execution_count": 13,
   "metadata": {},
   "outputs": [],
   "source": [
    "with open('DepictorPDB_TrainingSequences.txt', 'w') as f:\n",
    "    for item in Sequences:\n",
    "        f.write(\"%s\\n\" % item)"
   ]
  },
  {
   "cell_type": "code",
   "execution_count": null,
   "metadata": {},
   "outputs": [],
   "source": []
  }
 ],
 "metadata": {
  "kernelspec": {
   "display_name": "Python 3",
   "language": "python",
   "name": "python3"
  },
  "language_info": {
   "codemirror_mode": {
    "name": "ipython",
    "version": 3
   },
   "file_extension": ".py",
   "mimetype": "text/x-python",
   "name": "python",
   "nbconvert_exporter": "python",
   "pygments_lexer": "ipython3",
   "version": "3.7.4"
  }
 },
 "nbformat": 4,
 "nbformat_minor": 2
}
