{
 "cells": [
  {
   "cell_type": "code",
   "execution_count": 1,
   "metadata": {},
   "outputs": [],
   "source": [
    "import numpy as np\n",
    "import pandas as pd\n",
    "import csv\n",
    "Lines= []\n",
    "f = open(r'CASE1_Disordered_208_Edited.txt')\n",
    "for line in f:\n",
    "    data_line = line.rstrip().split('\\t')\n",
    "    Lines.append(data_line)"
   ]
  },
  {
   "cell_type": "code",
   "execution_count": 2,
   "metadata": {},
   "outputs": [
    {
     "data": {
      "text/plain": [
       "8585"
      ]
     },
     "execution_count": 2,
     "metadata": {},
     "output_type": "execute_result"
    }
   ],
   "source": [
    "len(Lines)"
   ]
  },
  {
   "cell_type": "code",
   "execution_count": 3,
   "metadata": {},
   "outputs": [],
   "source": [
    "ID=[]\n",
    "IUPL_Score =[]\n",
    "IUPS_Score =[]\n",
    "Spot_Score =[]\n",
    "Disorder_Annotation =[]\n",
    "fMorf_Score =[]\n",
    "DiordProt_Score =[]\n",
    "ANCHOR_Score =[]\n",
    "ProtBind_Annotation =[]\n",
    "DiordRNA_Score =[]\n",
    "RNABind_Annotation =[]\n",
    "DiordDNA_Score =[]\n",
    "DNABind_Annotation =[]\n",
    "DFL_Score =[]\n",
    "Linker_Annotation =[]\n",
    "DMR_Score =[]\n",
    "Moonlight_Annotation =[]\n",
    "J = len(Lines)-16\n",
    "b =0\n",
    "for b in range(0,J, 17):\n",
    "    ID.append(Lines[b])\n",
    "    IUPL_Score.append(Lines[b+1])\n",
    "    IUPS_Score.append(Lines[b+2])\n",
    "    Spot_Score.append(Lines[b+3])\n",
    "    Disorder_Annotation.append(Lines[b+4])\n",
    "    fMorf_Score.append(Lines[b+5])\n",
    "    DiordProt_Score.append(Lines[b+6])\n",
    "    ANCHOR_Score.append(Lines[b+7])\n",
    "    ProtBind_Annotation.append(Lines[b+8])\n",
    "    DiordRNA_Score.append(Lines[b+9])\n",
    "    RNABind_Annotation.append(Lines[b+10])\n",
    "    DiordDNA_Score.append(Lines[b+11])\n",
    "    DNABind_Annotation.append(Lines[b+12])\n",
    "    DFL_Score.append(Lines[b+13])\n",
    "    Linker_Annotation.append(Lines[b+14])\n",
    "    DMR_Score.append(Lines[b+15])\n",
    "    Moonlight_Annotation.append(Lines[b+16])"
   ]
  },
  {
   "cell_type": "code",
   "execution_count": 4,
   "metadata": {},
   "outputs": [
    {
     "data": {
      "text/plain": [
       "505"
      ]
     },
     "execution_count": 4,
     "metadata": {},
     "output_type": "execute_result"
    }
   ],
   "source": [
    "len(ID)"
   ]
  },
  {
   "cell_type": "code",
   "execution_count": 5,
   "metadata": {},
   "outputs": [],
   "source": [
    "Bad_IDs=['>DP00070',\n",
    "'>DP00151',\n",
    "'>DP00217',\n",
    "'>DP00397',\n",
    "'>DP00422',\n",
    "'>DP00555',\n",
    "'>DP00570',\n",
    "'>DP00620',\n",
    "'>DP00630',\n",
    "'>DP00668',\n",
    "'>DP00673',\n",
    "'>DP00724',\n",
    "'>DP00725',\n",
    "'>DP00787',\n",
    "'>DP00810',\n",
    "'>DP00839',\n",
    "'>DP00899',\n",
    "'>DP00902',\n",
    "'>DP00941',\n",
    "'>DP00944',\n",
    "'>DP00966',\n",
    "'>DP00986',\n",
    "'>DP00990',\n",
    "'>DP00998',\n",
    "'>DP01024',\n",
    "'>DP01029',\n",
    "'>DP01038',\n",
    "'>DP01055',\n",
    "'>DP00702',\n",
    "'>DP00253',\n",
    "'>DP00130',\n",
    "'>DP00057']\n",
    "\n",
    "Good_IDs=[]\n",
    "b =0\n",
    "gbp=0\n",
    "for b in range(0,261,1):\n",
    "                if ID[b][0] in Bad_IDs: gbp=gbp+1\n",
    "                else:Good_IDs.append(b)"
   ]
  },
  {
   "cell_type": "code",
   "execution_count": 6,
   "metadata": {},
   "outputs": [
    {
     "data": {
      "text/plain": [
       "229"
      ]
     },
     "execution_count": 6,
     "metadata": {},
     "output_type": "execute_result"
    }
   ],
   "source": [
    "len(Good_IDs)"
   ]
  },
  {
   "cell_type": "code",
   "execution_count": 7,
   "metadata": {},
   "outputs": [
    {
     "data": {
      "text/plain": [
       "'>5MGW_A_pdb'"
      ]
     },
     "execution_count": 7,
     "metadata": {},
     "output_type": "execute_result"
    }
   ],
   "source": [
    "ID[261][0]"
   ]
  },
  {
   "cell_type": "code",
   "execution_count": 8,
   "metadata": {},
   "outputs": [],
   "source": [
    "New_Disorder_Annotation=[]\n",
    "New_ProtBind_Annotation=[]\n",
    "New_RNABind_Annotation=[]\n",
    "New_DNABind_Annotation=[]\n",
    "New_Linker_Annotation=[]\n",
    "New_Moonlight_Annotation=[]\n",
    "b =0\n",
    "for b in Good_IDs:\n",
    "             disorder=list(Disorder_Annotation[b][0])\n",
    "             New_Disorder_Annotation.append(disorder)\n",
    "             protein=list(ProtBind_Annotation[b][0])\n",
    "             New_ProtBind_Annotation.append(protein)\n",
    "             RNA=list(RNABind_Annotation[b][0])\n",
    "             New_RNABind_Annotation.append(RNA)\n",
    "             DNA=list(DNABind_Annotation[b][0])\n",
    "             New_DNABind_Annotation.append(DNA)\n",
    "             linker=list(Linker_Annotation[b][0])\n",
    "             New_Linker_Annotation.append(linker)\n",
    "             moon=list(Moonlight_Annotation[b][0])\n",
    "             New_Moonlight_Annotation.append(moon)\n",
    "\n",
    "b=0           \n",
    "for b in range(261,len(ID),1): \n",
    "             disorder=list(Disorder_Annotation[b][0])\n",
    "             New_Disorder_Annotation.append(disorder)\n",
    "             protein=list(ProtBind_Annotation[b][0])\n",
    "             New_ProtBind_Annotation.append(protein)\n",
    "             RNA=list(RNABind_Annotation[b][0])\n",
    "             New_RNABind_Annotation.append(RNA)\n",
    "             DNA=list(DNABind_Annotation[b][0])\n",
    "             New_DNABind_Annotation.append(DNA)\n",
    "             linker=list(Linker_Annotation[b][0])\n",
    "             New_Linker_Annotation.append(linker)\n",
    "             moon=list(Moonlight_Annotation[b][0])\n",
    "             New_Moonlight_Annotation.append(moon)"
   ]
  },
  {
   "cell_type": "code",
   "execution_count": 9,
   "metadata": {},
   "outputs": [],
   "source": [
    "#Get the annotation count\n",
    "Positive_Count=[]\n",
    "Negative_Count=[]\n",
    "Negative_Ratio=[]\n",
    "for New_Disorder_Annotatio in New_Disorder_Annotation:\n",
    "                 positive=0\n",
    "                 negative=0\n",
    "                 for b in range(0, len(New_Disorder_Annotatio), 1):\n",
    "                                      if New_Disorder_Annotatio[b] == '1':positive = positive+1\n",
    "                                      elif New_Disorder_Annotatio[b] == '0':negative = negative+1\n",
    "                 Positive_Count.append(positive)\n",
    "                 Negative_Count.append(negative)\n",
    "                 Negative_Ratio.append(negative/len(New_Disorder_Annotatio))"
   ]
  },
  {
   "cell_type": "code",
   "execution_count": 10,
   "metadata": {},
   "outputs": [],
   "source": [
    "#Add proteins from disprot section based on the Annotation count and everything from PDB set \n",
    "Filtered = []\n",
    "Disprot_Index=[]\n",
    "b =0\n",
    "for b in range(0,len(Positive_Count),1):\n",
    "              if Positive_Count[b]>0:\n",
    "                                 Filtered.append(b)\n",
    "                                 Disprot_Index.append(b)\n",
    "Diso_Nega=[]\n",
    "Diso_Ra=[]\n",
    "for b in range(0,229,1):\n",
    "              if Negative_Count[b]>0:\n",
    "                                 Diso_Nega.append(b)\n",
    "                                 Diso_Ra.append(Negative_Ratio[b])\n",
    "Frame=pd.DataFrame({'Index':Diso_Nega,'Ratio':Diso_Ra})\n",
    "Frame=Frame.sort_values(by='Ratio', ascending=False)\n",
    "Diso_Nega=Frame.loc[:,('Index')].values\n",
    "for b in range(229,473,1):\n",
    "              Filtered.append(b)"
   ]
  },
  {
   "cell_type": "code",
   "execution_count": 11,
   "metadata": {},
   "outputs": [
    {
     "data": {
      "text/plain": [
       "460"
      ]
     },
     "execution_count": 11,
     "metadata": {},
     "output_type": "execute_result"
    }
   ],
   "source": [
    "len(Filtered)"
   ]
  },
  {
   "cell_type": "code",
   "execution_count": 12,
   "metadata": {},
   "outputs": [
    {
     "data": {
      "text/plain": [
       "473"
      ]
     },
     "execution_count": 12,
     "metadata": {},
     "output_type": "execute_result"
    }
   ],
   "source": [
    "len(Negative_Count)"
   ]
  },
  {
   "cell_type": "code",
   "execution_count": 13,
   "metadata": {},
   "outputs": [
    {
     "data": {
      "text/plain": [
       "79138"
      ]
     },
     "execution_count": 13,
     "metadata": {},
     "output_type": "execute_result"
    }
   ],
   "source": [
    "check_DisorderAnnotation=[]\n",
    "b=0\n",
    "for b in Disprot_Index:\n",
    "             check_DisorderAnnotation.append(New_Disorder_Annotation[b]) \n",
    "length_check=np.concatenate(check_DisorderAnnotation)\n",
    "len(length_check)"
   ]
  },
  {
   "cell_type": "code",
   "execution_count": 14,
   "metadata": {},
   "outputs": [],
   "source": [
    "#Getting length of each protein to a list\n",
    "Length_EachProtein = []\n",
    "b=0\n",
    "for b in range(0,len(New_Disorder_Annotation), 1):\n",
    "                   c = len(New_Disorder_Annotation[b])\n",
    "                   Length_EachProtein.append(c)\n",
    "\n",
    "#Getting continous sum of all proteins to an array\n",
    "d=np.cumsum(Length_EachProtein)"
   ]
  },
  {
   "cell_type": "code",
   "execution_count": 15,
   "metadata": {},
   "outputs": [],
   "source": [
    "New_Disorder_Annotation=np.concatenate(New_Disorder_Annotation)\n",
    "New_ProtBind_Annotation=np.concatenate(New_ProtBind_Annotation)  \n",
    "New_RNABind_Annotation=np.concatenate(New_RNABind_Annotation)  \n",
    "New_DNABind_Annotation=np.concatenate(New_DNABind_Annotation)  \n",
    "New_Linker_Annotation=np.concatenate(New_Linker_Annotation)  \n",
    "New_Moonlight_Annotation=np.concatenate(New_Moonlight_Annotation)  "
   ]
  },
  {
   "cell_type": "code",
   "execution_count": 16,
   "metadata": {},
   "outputs": [
    {
     "data": {
      "text/plain": [
       "146527"
      ]
     },
     "execution_count": 16,
     "metadata": {},
     "output_type": "execute_result"
    }
   ],
   "source": [
    "len(New_Disorder_Annotation)"
   ]
  },
  {
   "cell_type": "code",
   "execution_count": 17,
   "metadata": {},
   "outputs": [],
   "source": [
    "New_IUPL_Score =[]\n",
    "New_IUPS_Score =[]\n",
    "New_Spot_Score =[]\n",
    "New_fMorf_Score =[]\n",
    "New_DiordProt_Score =[]\n",
    "New_ANCHOR_Score =[]\n",
    "New_DiordRNA_Score =[]\n",
    "New_DiordDNA_Score =[]\n",
    "New_DFL_Score =[]\n",
    "New_DMR_Score =[]\n",
    "b =0\n",
    "for b in Good_IDs:\n",
    "     iupl=IUPL_Score[b][0].rstrip().split(',')\n",
    "     iupl=list(map(float, iupl))\n",
    "     New_IUPL_Score.append(iupl)\n",
    "     iups=IUPS_Score[b][0].rstrip().split(',')\n",
    "     iups=list(map(float, iups))\n",
    "     New_IUPS_Score.append(iups)\n",
    "     spot=Spot_Score[b][0].rstrip().split(',')\n",
    "     spot=list(map(float, spot))\n",
    "     New_Spot_Score.append(spot)\n",
    "     morf=fMorf_Score[b][0].rstrip().split(',')\n",
    "     morf=list(map(float, morf))\n",
    "     New_fMorf_Score.append(morf)\n",
    "     disoprot=DiordProt_Score[b][0].rstrip().split(',')\n",
    "     disoprot=list(map(float, disoprot))\n",
    "     New_DiordProt_Score.append(disoprot)\n",
    "     anchor=ANCHOR_Score[b][0].rstrip().split(',')\n",
    "     anchor=list(map(float, anchor))\n",
    "     New_ANCHOR_Score.append(anchor)\n",
    "     disorna=DiordRNA_Score[b][0].rstrip().split(',')\n",
    "     disorna=list(map(float, disorna))\n",
    "     New_DiordRNA_Score.append(disorna)\n",
    "     disodna=DiordDNA_Score[b][0].rstrip().split(',')\n",
    "     disodna=list(map(float, disodna))\n",
    "     New_DiordDNA_Score.append(disodna)\n",
    "     dfl=DFL_Score[b][0].rstrip().split(',')\n",
    "     dfl=list(map(float, dfl))\n",
    "     New_DFL_Score.append(dfl)\n",
    "     dmr=DMR_Score[b][0].rstrip().split(',')\n",
    "     dmr=list(map(float, dmr))\n",
    "     New_DMR_Score.append(dmr)\n",
    "\n"
   ]
  },
  {
   "cell_type": "code",
   "execution_count": 18,
   "metadata": {},
   "outputs": [],
   "source": [
    "for b in range(261,len(ID),1):\n",
    "     iupl=IUPL_Score[b][0].rstrip().split(',')\n",
    "     iupl=list(map(float, iupl))\n",
    "     New_IUPL_Score.append(iupl)\n",
    "     iups=IUPS_Score[b][0].rstrip().split(',')\n",
    "     iups=list(map(float, iups))\n",
    "     New_IUPS_Score.append(iups)\n",
    "     spot=Spot_Score[b][0].rstrip().split(',')\n",
    "     spot=list(map(float, spot))\n",
    "     New_Spot_Score.append(spot)\n",
    "     morf=fMorf_Score[b][0].rstrip().split(',')\n",
    "     morf=list(map(float, morf))\n",
    "     New_fMorf_Score.append(morf)\n",
    "     disoprot=DiordProt_Score[b][0].rstrip().split(',')\n",
    "     disoprot=list(map(float, disoprot))\n",
    "     New_DiordProt_Score.append(disoprot)\n",
    "     anchor=ANCHOR_Score[b][0].rstrip().split(',')\n",
    "     anchor=list(map(float, anchor))\n",
    "     New_ANCHOR_Score.append(anchor)\n",
    "     disorna=DiordRNA_Score[b][0].rstrip().split(',')\n",
    "     disorna=list(map(float, disorna))\n",
    "     New_DiordRNA_Score.append(disorna)\n",
    "     disodna=DiordDNA_Score[b][0].rstrip().split(',')\n",
    "     disodna=list(map(float, disodna))\n",
    "     New_DiordDNA_Score.append(disodna)\n",
    "     dfl=DFL_Score[b][0].rstrip().split(',')\n",
    "     dfl=list(map(float, dfl))\n",
    "     New_DFL_Score.append(dfl)\n",
    "     dmr=DMR_Score[b][0].rstrip().split(',')\n",
    "     dmr=list(map(float, dmr))\n",
    "     New_DMR_Score.append(dmr)"
   ]
  },
  {
   "cell_type": "code",
   "execution_count": 19,
   "metadata": {},
   "outputs": [],
   "source": [
    "New_IUPL_Score=np.concatenate(New_IUPL_Score)\n",
    "New_IUPS_Score=np.concatenate(New_IUPS_Score)\n",
    "New_Spot_Score=np.concatenate(New_Spot_Score)\n",
    "New_fMorf_Score=np.concatenate(New_fMorf_Score)\n",
    "New_DiordProt_Score=np.concatenate(New_DiordProt_Score)\n",
    "New_ANCHOR_Score=np.concatenate(New_ANCHOR_Score)\n",
    "New_DiordRNA_Score=np.concatenate(New_DiordRNA_Score)\n",
    "New_DiordDNA_Score=np.concatenate(New_DiordDNA_Score)\n",
    "New_DFL_Score=np.concatenate(New_DFL_Score)\n",
    "New_DMR_Score=np.concatenate(New_DMR_Score)"
   ]
  },
  {
   "cell_type": "code",
   "execution_count": 20,
   "metadata": {},
   "outputs": [],
   "source": [
    "from sklearn.preprocessing import MinMaxScaler\n",
    "scaler1 = MinMaxScaler(feature_range=(0, 0.5))\n",
    "scaler2 = MinMaxScaler(feature_range=(0.5, 1))"
   ]
  },
  {
   "cell_type": "code",
   "execution_count": 21,
   "metadata": {},
   "outputs": [],
   "source": [
    "score_prediction= New_Spot_Score\n",
    "Scaled_Spot_score =[]\n",
    "score_prediction = np.asarray(score_prediction)\n",
    "score_prediction = score_prediction.reshape(-1, 1)\n",
    "scaler1.fit(score_prediction)\n",
    "scaler2.fit(score_prediction)\n",
    "b=0\n",
    "for b in range(0, len(score_prediction), 1):\n",
    "\n",
    "    if score_prediction[b] < 0.132: sca = scaler1.transform(score_prediction[b].reshape(1, -1))\n",
    "    elif score_prediction[b] >= 0.132 : sca = scaler2.transform(score_prediction[b].reshape(1, -1))    \n",
    "    Scaled_Spot_score.append(sca)\n",
    "    \n",
    "Scaled_Spot_score = np.concatenate(np.concatenate(Scaled_Spot_score))"
   ]
  },
  {
   "cell_type": "code",
   "execution_count": 22,
   "metadata": {},
   "outputs": [],
   "source": [
    "score_prediction= New_IUPL_Score\n",
    "Scaled_IUPL_score =[]\n",
    "score_prediction = np.asarray(score_prediction)\n",
    "score_prediction = score_prediction.reshape(-1, 1)\n",
    "scaler1.fit(score_prediction)\n",
    "scaler2.fit(score_prediction)\n",
    "b=0\n",
    "for b in range(0, len(score_prediction), 1):\n",
    "\n",
    "    if score_prediction[b] < 0.4542: sca = scaler1.transform(score_prediction[b].reshape(1, -1))\n",
    "    elif score_prediction[b] >= 0.4542 : sca = scaler2.transform(score_prediction[b].reshape(1, -1))    \n",
    "    Scaled_IUPL_score.append(sca)\n",
    "    \n",
    "Scaled_IUPL_score = np.concatenate(np.concatenate(Scaled_IUPL_score))"
   ]
  },
  {
   "cell_type": "code",
   "execution_count": 23,
   "metadata": {},
   "outputs": [],
   "source": [
    "score_prediction= New_IUPS_Score\n",
    "Scaled_IUPS_score =[]\n",
    "score_prediction = np.asarray(score_prediction)\n",
    "score_prediction = score_prediction.reshape(-1, 1)\n",
    "scaler1.fit(score_prediction)\n",
    "scaler2.fit(score_prediction)\n",
    "b=0\n",
    "for b in range(0, len(score_prediction), 1):\n",
    "\n",
    "    if score_prediction[b] < 0.446: sca = scaler1.transform(score_prediction[b].reshape(1, -1))\n",
    "    elif score_prediction[b] >= 0.446 : sca = scaler2.transform(score_prediction[b].reshape(1, -1))    \n",
    "    Scaled_IUPS_score.append(sca)\n",
    "    \n",
    "Scaled_IUPS_score = np.concatenate(np.concatenate(Scaled_IUPS_score))"
   ]
  },
  {
   "cell_type": "code",
   "execution_count": 24,
   "metadata": {},
   "outputs": [
    {
     "data": {
      "text/plain": [
       "38101"
      ]
     },
     "execution_count": 24,
     "metadata": {},
     "output_type": "execute_result"
    }
   ],
   "source": [
    "randompred = New_IUPL_Score\n",
    "IUPL_Binary= [] \n",
    "binary=0\n",
    "b = 0\n",
    "for b in range(0, len(randompred), 1):\n",
    "    if randompred[b] >=0.4542: binary= 1 \n",
    "    else: binary=0\n",
    "    IUPL_Binary.append(binary)\n",
    "sum(IUPL_Binary)"
   ]
  },
  {
   "cell_type": "code",
   "execution_count": 25,
   "metadata": {},
   "outputs": [
    {
     "data": {
      "text/plain": [
       "35667"
      ]
     },
     "execution_count": 25,
     "metadata": {},
     "output_type": "execute_result"
    }
   ],
   "source": [
    "randompred = New_IUPS_Score\n",
    "IUPS_Binary= [] \n",
    "binary=0\n",
    "b = 0\n",
    "for b in range(0, len(randompred), 1):\n",
    "    if randompred[b] >= 0.446: binary= 1 \n",
    "    else: binary=0\n",
    "    IUPS_Binary.append(binary)\n",
    "sum(IUPS_Binary)"
   ]
  },
  {
   "cell_type": "code",
   "execution_count": 26,
   "metadata": {},
   "outputs": [
    {
     "data": {
      "text/plain": [
       "41148"
      ]
     },
     "execution_count": 26,
     "metadata": {},
     "output_type": "execute_result"
    }
   ],
   "source": [
    "randompred = New_Spot_Score\n",
    "Spot_Binary= [] \n",
    "binary=0\n",
    "b = 0\n",
    "for b in range(0, len(randompred), 1):\n",
    "    if randompred[b] >= 0.132: binary= 1 \n",
    "    else: binary=0\n",
    "    Spot_Binary.append(binary)\n",
    "sum(Spot_Binary)"
   ]
  },
  {
   "cell_type": "code",
   "execution_count": 27,
   "metadata": {},
   "outputs": [],
   "source": [
    "Spot_PredictionScore=Scaled_Spot_score\n",
    "Spot_BinaryPredictions=Spot_Binary\n",
    "IUPL_PredictionScore=Scaled_IUPL_score\n",
    "IUPL_BinaryPredictions=IUPL_Binary"
   ]
  },
  {
   "cell_type": "code",
   "execution_count": 28,
   "metadata": {},
   "outputs": [],
   "source": [
    "Spot_PredictionScore_byProteins= np.split(Spot_PredictionScore,d)\n",
    "Spot_BinaryPrediction_byProteins= np.split(Spot_BinaryPredictions,d)\n",
    "IUPL_PredictionScore_byProteins= np.split(IUPL_PredictionScore,d)\n",
    "IUPL_BinaryPrediction_byProteins= np.split(IUPL_BinaryPredictions,d)"
   ]
  },
  {
   "cell_type": "code",
   "execution_count": 29,
   "metadata": {},
   "outputs": [
    {
     "data": {
      "text/html": [
       "<div>\n",
       "<style scoped>\n",
       "    .dataframe tbody tr th:only-of-type {\n",
       "        vertical-align: middle;\n",
       "    }\n",
       "\n",
       "    .dataframe tbody tr th {\n",
       "        vertical-align: top;\n",
       "    }\n",
       "\n",
       "    .dataframe thead th {\n",
       "        text-align: right;\n",
       "    }\n",
       "</style>\n",
       "<table border=\"1\" class=\"dataframe\">\n",
       "  <thead>\n",
       "    <tr style=\"text-align: right;\">\n",
       "      <th></th>\n",
       "      <th>Unnamed: 0</th>\n",
       "      <th>Spot_PredictionScore</th>\n",
       "      <th>Spot_BinaryPredictions</th>\n",
       "      <th>Spot_Prediction_ScoreWindow</th>\n",
       "      <th>Spot_Prediction_ScoreWindowWeighted</th>\n",
       "      <th>Spot_Prediction_ScoreWindowDiff</th>\n",
       "      <th>Spot_Binary_PredictionWindow</th>\n",
       "      <th>Spot_Binary_PredictionWindowWeighted</th>\n",
       "      <th>Spot_Binary_PredictionWindowDiff</th>\n",
       "      <th>Spot_Prediction_Score_Up</th>\n",
       "      <th>...</th>\n",
       "      <th>New_Score3Window</th>\n",
       "      <th>New_Score3WindowWeighted</th>\n",
       "      <th>New_Score3WindowDiff</th>\n",
       "      <th>New_Binary1</th>\n",
       "      <th>New_Binary1Window</th>\n",
       "      <th>New_Binary1WindowWeighted</th>\n",
       "      <th>New_Binary1WindowDiff</th>\n",
       "      <th>Terminal_Distance</th>\n",
       "      <th>Terminal_Distance10</th>\n",
       "      <th>Disorder_Annotation</th>\n",
       "    </tr>\n",
       "  </thead>\n",
       "  <tbody>\n",
       "    <tr>\n",
       "      <th>0</th>\n",
       "      <td>0</td>\n",
       "      <td>0.986097</td>\n",
       "      <td>1</td>\n",
       "      <td>0.989701</td>\n",
       "      <td>0.164629</td>\n",
       "      <td>0.946550</td>\n",
       "      <td>1.0</td>\n",
       "      <td>0.166667</td>\n",
       "      <td>1.0</td>\n",
       "      <td>0.986097</td>\n",
       "      <td>...</td>\n",
       "      <td>0.873821</td>\n",
       "      <td>0.145105</td>\n",
       "      <td>0.893409</td>\n",
       "      <td>1</td>\n",
       "      <td>1.0</td>\n",
       "      <td>0.166667</td>\n",
       "      <td>1.0</td>\n",
       "      <td>0.000000</td>\n",
       "      <td>0</td>\n",
       "      <td>0</td>\n",
       "    </tr>\n",
       "    <tr>\n",
       "      <th>1</th>\n",
       "      <td>1</td>\n",
       "      <td>0.991761</td>\n",
       "      <td>1</td>\n",
       "      <td>0.988083</td>\n",
       "      <td>0.141459</td>\n",
       "      <td>0.926262</td>\n",
       "      <td>1.0</td>\n",
       "      <td>0.142857</td>\n",
       "      <td>1.0</td>\n",
       "      <td>0.986097</td>\n",
       "      <td>...</td>\n",
       "      <td>0.876169</td>\n",
       "      <td>0.125086</td>\n",
       "      <td>0.900892</td>\n",
       "      <td>1</td>\n",
       "      <td>1.0</td>\n",
       "      <td>0.142857</td>\n",
       "      <td>1.0</td>\n",
       "      <td>0.000342</td>\n",
       "      <td>1</td>\n",
       "      <td>0</td>\n",
       "    </tr>\n",
       "    <tr>\n",
       "      <th>2</th>\n",
       "      <td>2</td>\n",
       "      <td>0.993306</td>\n",
       "      <td>1</td>\n",
       "      <td>0.985453</td>\n",
       "      <td>0.123677</td>\n",
       "      <td>0.901133</td>\n",
       "      <td>1.0</td>\n",
       "      <td>0.125000</td>\n",
       "      <td>1.0</td>\n",
       "      <td>0.991761</td>\n",
       "      <td>...</td>\n",
       "      <td>0.877552</td>\n",
       "      <td>0.109481</td>\n",
       "      <td>0.916812</td>\n",
       "      <td>1</td>\n",
       "      <td>1.0</td>\n",
       "      <td>0.125000</td>\n",
       "      <td>1.0</td>\n",
       "      <td>0.000684</td>\n",
       "      <td>2</td>\n",
       "      <td>0</td>\n",
       "    </tr>\n",
       "    <tr>\n",
       "      <th>3</th>\n",
       "      <td>3</td>\n",
       "      <td>0.992276</td>\n",
       "      <td>1</td>\n",
       "      <td>0.981691</td>\n",
       "      <td>0.109618</td>\n",
       "      <td>0.871164</td>\n",
       "      <td>1.0</td>\n",
       "      <td>0.111111</td>\n",
       "      <td>1.0</td>\n",
       "      <td>0.993306</td>\n",
       "      <td>...</td>\n",
       "      <td>0.876259</td>\n",
       "      <td>0.097653</td>\n",
       "      <td>0.948556</td>\n",
       "      <td>1</td>\n",
       "      <td>1.0</td>\n",
       "      <td>0.111111</td>\n",
       "      <td>1.0</td>\n",
       "      <td>0.001026</td>\n",
       "      <td>3</td>\n",
       "      <td>0</td>\n",
       "    </tr>\n",
       "    <tr>\n",
       "      <th>4</th>\n",
       "      <td>4</td>\n",
       "      <td>0.989186</td>\n",
       "      <td>1</td>\n",
       "      <td>0.976468</td>\n",
       "      <td>0.098181</td>\n",
       "      <td>0.838414</td>\n",
       "      <td>1.0</td>\n",
       "      <td>0.100000</td>\n",
       "      <td>1.0</td>\n",
       "      <td>0.992276</td>\n",
       "      <td>...</td>\n",
       "      <td>0.878256</td>\n",
       "      <td>0.087583</td>\n",
       "      <td>0.985843</td>\n",
       "      <td>1</td>\n",
       "      <td>1.0</td>\n",
       "      <td>0.100000</td>\n",
       "      <td>1.0</td>\n",
       "      <td>0.001368</td>\n",
       "      <td>4</td>\n",
       "      <td>0</td>\n",
       "    </tr>\n",
       "  </tbody>\n",
       "</table>\n",
       "<p>5 rows × 56 columns</p>\n",
       "</div>"
      ],
      "text/plain": [
       "   Unnamed: 0  Spot_PredictionScore  Spot_BinaryPredictions  \\\n",
       "0           0              0.986097                       1   \n",
       "1           1              0.991761                       1   \n",
       "2           2              0.993306                       1   \n",
       "3           3              0.992276                       1   \n",
       "4           4              0.989186                       1   \n",
       "\n",
       "   Spot_Prediction_ScoreWindow  Spot_Prediction_ScoreWindowWeighted  \\\n",
       "0                     0.989701                             0.164629   \n",
       "1                     0.988083                             0.141459   \n",
       "2                     0.985453                             0.123677   \n",
       "3                     0.981691                             0.109618   \n",
       "4                     0.976468                             0.098181   \n",
       "\n",
       "   Spot_Prediction_ScoreWindowDiff  Spot_Binary_PredictionWindow  \\\n",
       "0                         0.946550                           1.0   \n",
       "1                         0.926262                           1.0   \n",
       "2                         0.901133                           1.0   \n",
       "3                         0.871164                           1.0   \n",
       "4                         0.838414                           1.0   \n",
       "\n",
       "   Spot_Binary_PredictionWindowWeighted  Spot_Binary_PredictionWindowDiff  \\\n",
       "0                              0.166667                               1.0   \n",
       "1                              0.142857                               1.0   \n",
       "2                              0.125000                               1.0   \n",
       "3                              0.111111                               1.0   \n",
       "4                              0.100000                               1.0   \n",
       "\n",
       "   Spot_Prediction_Score_Up  ...  New_Score3Window  New_Score3WindowWeighted  \\\n",
       "0                  0.986097  ...          0.873821                  0.145105   \n",
       "1                  0.986097  ...          0.876169                  0.125086   \n",
       "2                  0.991761  ...          0.877552                  0.109481   \n",
       "3                  0.993306  ...          0.876259                  0.097653   \n",
       "4                  0.992276  ...          0.878256                  0.087583   \n",
       "\n",
       "   New_Score3WindowDiff  New_Binary1  New_Binary1Window  \\\n",
       "0              0.893409            1                1.0   \n",
       "1              0.900892            1                1.0   \n",
       "2              0.916812            1                1.0   \n",
       "3              0.948556            1                1.0   \n",
       "4              0.985843            1                1.0   \n",
       "\n",
       "   New_Binary1WindowWeighted  New_Binary1WindowDiff  Terminal_Distance  \\\n",
       "0                   0.166667                    1.0           0.000000   \n",
       "1                   0.142857                    1.0           0.000342   \n",
       "2                   0.125000                    1.0           0.000684   \n",
       "3                   0.111111                    1.0           0.001026   \n",
       "4                   0.100000                    1.0           0.001368   \n",
       "\n",
       "   Terminal_Distance10  Disorder_Annotation  \n",
       "0                    0                    0  \n",
       "1                    1                    0  \n",
       "2                    2                    0  \n",
       "3                    3                    0  \n",
       "4                    4                    0  \n",
       "\n",
       "[5 rows x 56 columns]"
      ]
     },
     "execution_count": 29,
     "metadata": {},
     "output_type": "execute_result"
    }
   ],
   "source": [
    "import pandas as pd\n",
    "file_training_set = (r\"TestSet_Featuers_54.csv\")\n",
    "TestSet_Featuers = pd.read_csv(file_training_set)\n",
    "TestSet_Featuers.head()"
   ]
  },
  {
   "cell_type": "code",
   "execution_count": 30,
   "metadata": {},
   "outputs": [],
   "source": [
    "X_Initial = TestSet_Featuers.iloc[:,1:54]\n",
    "X_Selected = TestSet_Featuers.iloc[:,([2,  3,  5,  7,  8, 12, 13, 16, 17, 18, 26, 27, 28, 29, 30, 31, 33])]"
   ]
  },
  {
   "cell_type": "code",
   "execution_count": 31,
   "metadata": {},
   "outputs": [],
   "source": [
    "import pickle\n",
    "import xgboost as xgb\n",
    "filename = 'Consensus_Modeltx.sav'\n",
    "Classifier_Overall = pickle.load(open(filename, 'rb'))\n",
    "dall = xgb.DMatrix(X_Initial, label=New_Disorder_Annotation)\n",
    "Con_Score9= Classifier_Overall.predict(dall)"
   ]
  },
  {
   "cell_type": "code",
   "execution_count": 32,
   "metadata": {},
   "outputs": [],
   "source": [
    "#Split concatanated array back to proteins\n",
    "New_fMorf_Score_byProteins= np.split(New_fMorf_Score,d)\n",
    "New_DiordProt_Score_byProteins= np.split(New_DiordProt_Score,d)\n",
    "New_ANCHOR_Score_byProteins= np.split(New_ANCHOR_Score,d)\n",
    "New_DiordRNA_Score_byProteins= np.split(New_DiordRNA_Score,d)\n",
    "New_DiordDNA_Score_byProteins= np.split(New_DiordDNA_Score,d)\n",
    "New_DFL_Score_byProteins= np.split(New_DFL_Score,d)\n",
    "New_DMR_Score_byProteins= np.split(New_DMR_Score,d)\n",
    "#################################################################\n",
    "New_Disorder_Annotation_byProteins= np.split(New_Disorder_Annotation,d)\n",
    "New_ProtBind_Annotation_byProteins= np.split(New_ProtBind_Annotation,d)\n",
    "New_RNABind_Annotation_byProteins= np.split(New_RNABind_Annotation,d)\n",
    "New_DNABind_Annotation_byProteins= np.split(New_DNABind_Annotation,d)\n",
    "New_Linker_Annotation_byProteins= np.split(New_Linker_Annotation ,d)\n",
    "New_Moonlight_Annotation_byProteins= np.split(New_Moonlight_Annotation,d)"
   ]
  },
  {
   "cell_type": "code",
   "execution_count": 33,
   "metadata": {},
   "outputs": [],
   "source": [
    "New_Disorder_Annotations=[]\n",
    "New_ProtBind_Annotations=[]\n",
    "New_RNABind_Annotations=[]\n",
    "New_DNABind_Annotations=[]\n",
    "New_Linker_Annotations=[] \n",
    "New_Moonlight_Annotations=[]\n",
    "New_fMorf_Scores=[]\n",
    "New_DiordProt_Scores=[]\n",
    "New_ANCHOR_Scores=[]\n",
    "New_DiordRNA_Scores=[]\n",
    "New_DiordDNA_Scores=[]\n",
    "New_DFL_Scores=[]\n",
    "New_DMR_Scores=[]\n",
    "b=0\n",
    "for b in range(0,len(Negative_Count),1):\n",
    "           New_Disorder_Annotations.append(New_Disorder_Annotation_byProteins[b])\n",
    "           New_ProtBind_Annotations.append(New_ProtBind_Annotation_byProteins[b])\n",
    "           New_RNABind_Annotations.append(New_RNABind_Annotation_byProteins[b])\n",
    "           New_DNABind_Annotations.append(New_DNABind_Annotation_byProteins[b])\n",
    "           New_Linker_Annotations.append(New_Linker_Annotation_byProteins[b]) \n",
    "           New_Moonlight_Annotations.append(New_Moonlight_Annotation_byProteins[b])\n",
    "           New_fMorf_Scores.append(New_fMorf_Score_byProteins[b])\n",
    "           New_DiordProt_Scores.append(New_DiordProt_Score_byProteins[b])\n",
    "           New_ANCHOR_Scores.append(New_ANCHOR_Score_byProteins[b])\n",
    "           New_DiordRNA_Scores.append(New_DiordRNA_Score_byProteins[b])\n",
    "           New_DiordDNA_Scores.append(New_DiordDNA_Score_byProteins[b])\n",
    "           New_DFL_Scores.append(New_DFL_Score_byProteins[b])\n",
    "           New_DMR_Scores.append(New_DMR_Score_byProteins[b])   "
   ]
  },
  {
   "cell_type": "code",
   "execution_count": 34,
   "metadata": {},
   "outputs": [],
   "source": [
    "New_Disorder_Annotations=np.concatenate(New_Disorder_Annotations)\n",
    "New_ProtBind_Annotations=np.concatenate(New_ProtBind_Annotations)\n",
    "New_RNABind_Annotations=np.concatenate(New_RNABind_Annotations)\n",
    "New_DNABind_Annotations=np.concatenate(New_DNABind_Annotations)\n",
    "New_Linker_Annotations=np.concatenate(New_Linker_Annotations)\n",
    "New_Moonlight_Annotations=np.concatenate(New_Moonlight_Annotations)\n",
    "New_fMorf_Scores=np.concatenate(New_fMorf_Scores)\n",
    "New_DiordProt_Scores=np.concatenate(New_DiordProt_Scores)\n",
    "New_ANCHOR_Scores=np.concatenate(New_ANCHOR_Scores)\n",
    "New_DiordRNA_Scores=np.concatenate(New_DiordRNA_Scores)\n",
    "New_DiordDNA_Scores=np.concatenate(New_DiordDNA_Scores)\n",
    "New_DFL_Scores=np.concatenate(New_DFL_Scores)\n",
    "New_DMR_Scores=np.concatenate(New_DMR_Scores)"
   ]
  },
  {
   "cell_type": "code",
   "execution_count": 35,
   "metadata": {},
   "outputs": [],
   "source": [
    "Y_New_Disorder_Annotations =[]\n",
    "b=0\n",
    "for b in range(0,len(New_Disorder_Annotations), 1):\n",
    "    if New_Disorder_Annotations[b]== 'x':Y_New_Disorder_Annotations.append('0')\n",
    "    else: Y_New_Disorder_Annotations.append(New_Disorder_Annotations[b])\n",
    "\n",
    "Y_New_ProtBind_Annotations=[]\n",
    "b=0\n",
    "for b in range(0,len(New_ProtBind_Annotations), 1):\n",
    "    if New_ProtBind_Annotations[b]== 'x':Y_New_ProtBind_Annotations.append('0')\n",
    "    else: Y_New_ProtBind_Annotations.append(New_ProtBind_Annotations[b])\n",
    "\n",
    "Y_New_RNABind_Annotations=[]\n",
    "b=0\n",
    "for b in range(0,len(New_RNABind_Annotations), 1):\n",
    "    if New_RNABind_Annotations[b]== 'x':Y_New_RNABind_Annotations.append('0')\n",
    "    else: Y_New_RNABind_Annotations.append(New_RNABind_Annotations[b])\n",
    "        \n",
    "Y_New_DNABind_Annotations =[]\n",
    "b=0\n",
    "for b in range(0,len(New_DNABind_Annotations), 1):\n",
    "    if New_DNABind_Annotations[b]== 'x':Y_New_DNABind_Annotations.append('0')\n",
    "    else: Y_New_DNABind_Annotations.append(New_DNABind_Annotations[b])\n",
    "        \n",
    "Y_New_Linker_Annotations =[]\n",
    "b=0\n",
    "for b in range(0,len(New_Linker_Annotations), 1):\n",
    "    if New_Linker_Annotations[b]== 'x':Y_New_Linker_Annotations.append('0')\n",
    "    else: Y_New_Linker_Annotations.append(New_Linker_Annotations[b])\n",
    "        \n",
    "Y_New_Moonlight_Annotations =[]\n",
    "b=0\n",
    "for b in range(0,len(New_Moonlight_Annotations), 1):\n",
    "    if New_Moonlight_Annotations[b]== 'x':Y_New_Moonlight_Annotations.append('0')\n",
    "    else: Y_New_Moonlight_Annotations.append(New_Moonlight_Annotations[b])"
   ]
  },
  {
   "cell_type": "code",
   "execution_count": 36,
   "metadata": {},
   "outputs": [],
   "source": [
    "Positive_Index_Disorder =[]\n",
    "b=0\n",
    "for b in range(0,len(Y_New_Disorder_Annotations), 1):\n",
    "    if Y_New_Disorder_Annotations[b]=='1':Positive_Index_Disorder.append(b)\n",
    "\n",
    "Positive_Index_Protein =[]\n",
    "b=0\n",
    "for b in range(0,len(Y_New_ProtBind_Annotations), 1):\n",
    "    if Y_New_ProtBind_Annotations[b]=='1':Positive_Index_Protein.append(b)\n",
    "\n",
    "Positive_Index_RNA =[]\n",
    "b=0\n",
    "for b in range(0,len(Y_New_RNABind_Annotations), 1):\n",
    "    if Y_New_RNABind_Annotations[b]=='1':Positive_Index_RNA.append(b)\n",
    "        \n",
    "Positive_Index_DNA =[]\n",
    "b=0\n",
    "for b in range(0,len(Y_New_DNABind_Annotations), 1):\n",
    "    if Y_New_DNABind_Annotations[b]=='1':Positive_Index_DNA.append(b)\n",
    "        \n",
    "Positive_Index_Linker =[]\n",
    "b=0\n",
    "for b in range(0,len(Y_New_Linker_Annotations), 1):\n",
    "    if Y_New_Linker_Annotations[b]=='1':Positive_Index_Linker.append(b)\n",
    "        \n",
    "Positive_Index_Moon =[]\n",
    "b=0\n",
    "for b in range(0,len(Y_New_Moonlight_Annotations), 1):\n",
    "    if Y_New_Moonlight_Annotations[b]=='1':Positive_Index_Moon.append(b)"
   ]
  },
  {
   "cell_type": "code",
   "execution_count": 37,
   "metadata": {},
   "outputs": [],
   "source": [
    "HardNegative_Index_Disorder =[]\n",
    "b=0\n",
    "for b in range(0,len(length_check), 1):\n",
    "    if Y_New_Disorder_Annotations[b]=='0':HardNegative_Index_Disorder.append(b)\n",
    "\n",
    "HardNegative_Index_Protein =[]\n",
    "b=0\n",
    "for b in range(0,len(length_check), 1):\n",
    "    if Y_New_ProtBind_Annotations[b]=='0':HardNegative_Index_Protein.append(b)\n",
    "\n",
    "HardNegative_Index_RNA =[]\n",
    "b=0\n",
    "for b in range(0,len(length_check), 1):\n",
    "    if Y_New_RNABind_Annotations[b]=='0':HardNegative_Index_RNA.append(b)\n",
    "        \n",
    "HardNegative_Index_DNA =[]\n",
    "b=0\n",
    "for b in range(0,len(length_check), 1):\n",
    "    if Y_New_DNABind_Annotations[b]=='0':HardNegative_Index_DNA.append(b)\n",
    "        \n",
    "HardNegative_Index_Linker =[]\n",
    "b=0\n",
    "for b in range(0,len(length_check), 1):\n",
    "    if Y_New_Linker_Annotations[b]=='0':HardNegative_Index_Linker.append(b)\n",
    "        \n",
    "HardNegative_Index_Moon =[]\n",
    "b=0\n",
    "for b in range(0,len(length_check), 1):\n",
    "    if Y_New_Moonlight_Annotations[b]=='0':HardNegative_Index_Moon.append(b)"
   ]
  },
  {
   "cell_type": "code",
   "execution_count": 38,
   "metadata": {},
   "outputs": [],
   "source": [
    "EasyNegative_Index_Disorder =[]\n",
    "b=0\n",
    "for b in range(len(length_check),len(Y_New_Disorder_Annotations),1):\n",
    "    if Y_New_Disorder_Annotations[b]=='0':EasyNegative_Index_Disorder.append(b)\n",
    "\n",
    "EasyNegative_Index_Protein =[]\n",
    "b=0\n",
    "for b in range(len(length_check),len(Y_New_ProtBind_Annotations),1):\n",
    "    if Y_New_ProtBind_Annotations[b]=='0':EasyNegative_Index_Protein.append(b)\n",
    "\n",
    "EasyNegative_Index_RNA =[]\n",
    "b=0\n",
    "for b in range(len(length_check),len(Y_New_RNABind_Annotations),1):\n",
    "    if Y_New_RNABind_Annotations[b]=='0':EasyNegative_Index_RNA.append(b)\n",
    "        \n",
    "EasyNegative_Index_DNA =[]\n",
    "b=0\n",
    "for b in range(len(length_check),len(Y_New_DNABind_Annotations),1):\n",
    "    if Y_New_DNABind_Annotations[b]=='0':EasyNegative_Index_DNA.append(b)\n",
    "        \n",
    "EasyNegative_Index_Linker =[]\n",
    "b=0\n",
    "for b in range(len(length_check),len(Y_New_Linker_Annotations),1):\n",
    "    if Y_New_Linker_Annotations[b]=='0':EasyNegative_Index_Linker.append(b)\n",
    "        \n",
    "EasyNegative_Index_Moon =[]\n",
    "b=0\n",
    "for b in range(len(length_check),len(Y_New_Moonlight_Annotations),1):\n",
    "    if Y_New_Moonlight_Annotations[b]=='0':EasyNegative_Index_Moon.append(b)"
   ]
  },
  {
   "cell_type": "code",
   "execution_count": 39,
   "metadata": {},
   "outputs": [
    {
     "name": "stdout",
     "output_type": "stream",
     "text": [
      "20705\n",
      "58903\n",
      "66919\n"
     ]
    },
    {
     "data": {
      "text/plain": [
       "146527"
      ]
     },
     "execution_count": 39,
     "metadata": {},
     "output_type": "execute_result"
    }
   ],
   "source": [
    "print(len(Positive_Index_Disorder))\n",
    "print(len(HardNegative_Index_Disorder))\n",
    "print(len(EasyNegative_Index_Disorder))\n",
    "len(New_Disorder_Annotations)"
   ]
  },
  {
   "cell_type": "code",
   "execution_count": 40,
   "metadata": {},
   "outputs": [],
   "source": [
    "Index_Disorder=Positive_Index_Disorder+HardNegative_Index_Disorder[:2*len(Positive_Index_Disorder)]+EasyNegative_Index_Disorder[:2*len(Positive_Index_Disorder)]\n",
    "Index_Protein=Positive_Index_Protein+HardNegative_Index_Protein[:len(Positive_Index_Protein)]+EasyNegative_Index_Protein[:len(Positive_Index_Protein)]\n",
    "Index_RNA=Positive_Index_RNA+HardNegative_Index_RNA[:len(Positive_Index_RNA)]+EasyNegative_Index_RNA[:len(Positive_Index_RNA)]\n",
    "Index_DNA=Positive_Index_DNA+HardNegative_Index_DNA[:len(Positive_Index_DNA)]+EasyNegative_Index_DNA[:len(Positive_Index_DNA)]\n",
    "Index_Linker=Positive_Index_Linker+HardNegative_Index_Linker[:len(Positive_Index_Linker)]+EasyNegative_Index_Linker[:len(Positive_Index_Linker)]\n",
    "Index_Moon=Positive_Index_Moon+HardNegative_Index_Moon[:len(Positive_Index_Moon)]+EasyNegative_Index_Moon[:len(Positive_Index_Moon)]"
   ]
  },
  {
   "cell_type": "code",
   "execution_count": 41,
   "metadata": {},
   "outputs": [
    {
     "data": {
      "text/plain": [
       "103525"
      ]
     },
     "execution_count": 41,
     "metadata": {},
     "output_type": "execute_result"
    }
   ],
   "source": [
    "len(Index_Disorder)"
   ]
  },
  {
   "cell_type": "code",
   "execution_count": 42,
   "metadata": {},
   "outputs": [],
   "source": [
    "Puri_Disorder=[]\n",
    "Puri_IUPL=[]\n",
    "Puri_IUPS=[]\n",
    "Puri_Spot=[]\n",
    "Puri_Consensus=[]\n",
    "b=0\n",
    "for b in Index_Disorder:\n",
    "    Puri_Disorder.append(Y_New_Disorder_Annotations[b])\n",
    "    Puri_IUPL.append(New_IUPL_Score[b])\n",
    "    Puri_IUPS.append(New_IUPS_Score[b])\n",
    "    Puri_Spot.append(New_Spot_Score[b])\n",
    "    Puri_Consensus.append(Con_Score9[b])\n",
    "    \n",
    "Puri_Disorder =list(map(int, Puri_Disorder))"
   ]
  },
  {
   "cell_type": "code",
   "execution_count": 43,
   "metadata": {},
   "outputs": [
    {
     "data": {
      "text/plain": [
       "20705"
      ]
     },
     "execution_count": 43,
     "metadata": {},
     "output_type": "execute_result"
    }
   ],
   "source": [
    "sum(Puri_Disorder)"
   ]
  },
  {
   "cell_type": "code",
   "execution_count": 44,
   "metadata": {},
   "outputs": [
    {
     "data": {
      "text/html": [
       "<div>\n",
       "<style scoped>\n",
       "    .dataframe tbody tr th:only-of-type {\n",
       "        vertical-align: middle;\n",
       "    }\n",
       "\n",
       "    .dataframe tbody tr th {\n",
       "        vertical-align: top;\n",
       "    }\n",
       "\n",
       "    .dataframe thead th {\n",
       "        text-align: right;\n",
       "    }\n",
       "</style>\n",
       "<table border=\"1\" class=\"dataframe\">\n",
       "  <thead>\n",
       "    <tr style=\"text-align: right;\">\n",
       "      <th></th>\n",
       "      <th>AUC</th>\n",
       "      <th>PR</th>\n",
       "      <th>ACC</th>\n",
       "      <th>Sen</th>\n",
       "      <th>Spec</th>\n",
       "      <th>MCC</th>\n",
       "    </tr>\n",
       "  </thead>\n",
       "  <tbody>\n",
       "    <tr>\n",
       "      <th>0</th>\n",
       "      <td>0.804</td>\n",
       "      <td>0.525</td>\n",
       "      <td>0.808</td>\n",
       "      <td>0.623</td>\n",
       "      <td>0.854</td>\n",
       "      <td>0.446</td>\n",
       "    </tr>\n",
       "  </tbody>\n",
       "</table>\n",
       "</div>"
      ],
      "text/plain": [
       "     AUC     PR    ACC    Sen   Spec    MCC\n",
       "0  0.804  0.525  0.808  0.623  0.854  0.446"
      ]
     },
     "execution_count": 44,
     "metadata": {},
     "output_type": "execute_result"
    }
   ],
   "source": [
    "from sklearn.metrics import roc_auc_score, matthews_corrcoef, accuracy_score, average_precision_score, confusion_matrix\n",
    "c = Puri_Disorder\n",
    "randompred = Puri_IUPL\n",
    "bin_pred= [] \n",
    "binary=0\n",
    "b = 0\n",
    "for b in range(0, len(randompred), 1):\n",
    "    if randompred[b] > 0.51000000: binary= 1 \n",
    "    else: binary=0\n",
    "    bin_pred.append(binary)\n",
    "res = pd.DataFrame(columns=['AUC','PR','ACC','Sen','Spec','MCC'], index=[0])\n",
    "res.loc[0, 'AUC'] = roc_auc_score(c, randompred)\n",
    "res.loc[0, 'PR'] = average_precision_score(c, randompred)\n",
    "cm = confusion_matrix(c, bin_pred)\n",
    "res.loc[0, 'ACC'] = accuracy_score(c, bin_pred)  \n",
    "res.loc[0, 'Sen'] = cm[1,1] / float (cm[1,0]+cm[1,1])\n",
    "res.loc[0, 'Spec'] = cm[0,0] / float (cm[0,0]+cm[0,1])\n",
    "res.loc[0, 'MCC'] = matthews_corrcoef(c, bin_pred)\n",
    "res.astype(float).round(3)"
   ]
  },
  {
   "cell_type": "code",
   "execution_count": 45,
   "metadata": {},
   "outputs": [
    {
     "name": "stderr",
     "output_type": "stream",
     "text": [
      "C:\\Users\\katuwawalaai\\AppData\\Local\\Continuum\\anaconda3\\lib\\site-packages\\sklearn\\metrics\\classification.py:872: RuntimeWarning: invalid value encountered in double_scalars\n",
      "  mcc = cov_ytyp / np.sqrt(cov_ytyt * cov_ypyp)\n"
     ]
    },
    {
     "data": {
      "text/plain": [
       "0.5100000000000003"
      ]
     },
     "execution_count": 45,
     "metadata": {},
     "output_type": "execute_result"
    }
   ],
   "source": [
    "from sklearn.metrics import roc_auc_score, matthews_corrcoef, accuracy_score, average_precision_score, confusion_matrix\n",
    "import matplotlib.pyplot as plt\n",
    "c = Puri_Disorder\n",
    "randompred =  Puri_IUPL\n",
    "MCC=[]\n",
    "Threshold=[]\n",
    "k=0\n",
    "threshold=0\n",
    "for k in range(0,200,1):\n",
    "       Threshold.append(threshold)\n",
    "       bin_pred= [] \n",
    "       binary=0\n",
    "       b = 0\n",
    "       for b in range(0, len(randompred), 1):\n",
    "           if randompred[b] >= threshold: binary= 1 \n",
    "           else: binary=0\n",
    "           bin_pred.append(binary)\n",
    "       MCC.append(matthews_corrcoef(c,bin_pred))\n",
    "       threshold=threshold+0.005\n",
    "\n",
    "maxpos = MCC.index(max(MCC))\n",
    "Threshold[maxpos]"
   ]
  },
  {
   "cell_type": "code",
   "execution_count": 46,
   "metadata": {},
   "outputs": [
    {
     "data": {
      "text/html": [
       "<div>\n",
       "<style scoped>\n",
       "    .dataframe tbody tr th:only-of-type {\n",
       "        vertical-align: middle;\n",
       "    }\n",
       "\n",
       "    .dataframe tbody tr th {\n",
       "        vertical-align: top;\n",
       "    }\n",
       "\n",
       "    .dataframe thead th {\n",
       "        text-align: right;\n",
       "    }\n",
       "</style>\n",
       "<table border=\"1\" class=\"dataframe\">\n",
       "  <thead>\n",
       "    <tr style=\"text-align: right;\">\n",
       "      <th></th>\n",
       "      <th>AUC</th>\n",
       "      <th>PR</th>\n",
       "      <th>ACC</th>\n",
       "      <th>Sen</th>\n",
       "      <th>Spec</th>\n",
       "      <th>MCC</th>\n",
       "    </tr>\n",
       "  </thead>\n",
       "  <tbody>\n",
       "    <tr>\n",
       "      <th>0</th>\n",
       "      <td>0.791</td>\n",
       "      <td>0.485</td>\n",
       "      <td>0.779</td>\n",
       "      <td>0.665</td>\n",
       "      <td>0.807</td>\n",
       "      <td>0.418</td>\n",
       "    </tr>\n",
       "  </tbody>\n",
       "</table>\n",
       "</div>"
      ],
      "text/plain": [
       "     AUC     PR    ACC    Sen   Spec    MCC\n",
       "0  0.791  0.485  0.779  0.665  0.807  0.418"
      ]
     },
     "execution_count": 46,
     "metadata": {},
     "output_type": "execute_result"
    }
   ],
   "source": [
    "from sklearn.metrics import roc_auc_score, matthews_corrcoef, accuracy_score, average_precision_score, confusion_matrix\n",
    "c = Puri_Disorder\n",
    "randompred = Puri_IUPS\n",
    "bin_pred= [] \n",
    "binary=0\n",
    "b = 0\n",
    "for b in range(0, len(randompred), 1):\n",
    "    if randompred[b] > 0.435000: binary= 1 \n",
    "    else: binary=0\n",
    "    bin_pred.append(binary)\n",
    "res = pd.DataFrame(columns=['AUC','PR','ACC','Sen','Spec','MCC'], index=[0])\n",
    "res.loc[0, 'AUC'] = roc_auc_score(c, randompred)\n",
    "res.loc[0, 'PR'] = average_precision_score(c, randompred)\n",
    "cm = confusion_matrix(c, bin_pred)\n",
    "res.loc[0, 'ACC'] = accuracy_score(c, bin_pred)  \n",
    "res.loc[0, 'Sen'] = cm[1,1] / float (cm[1,0]+cm[1,1])\n",
    "res.loc[0, 'Spec'] = cm[0,0] / float (cm[0,0]+cm[0,1])\n",
    "res.loc[0, 'MCC'] = matthews_corrcoef(c, bin_pred)\n",
    "res.astype(float).round(3)"
   ]
  },
  {
   "cell_type": "code",
   "execution_count": 47,
   "metadata": {},
   "outputs": [
    {
     "data": {
      "text/plain": [
       "0.4350000000000003"
      ]
     },
     "execution_count": 47,
     "metadata": {},
     "output_type": "execute_result"
    }
   ],
   "source": [
    "from sklearn.metrics import roc_auc_score, matthews_corrcoef, accuracy_score, average_precision_score, confusion_matrix\n",
    "import matplotlib.pyplot as plt\n",
    "c = Puri_Disorder\n",
    "randompred =  Puri_IUPS\n",
    "MCC=[]\n",
    "Threshold=[]\n",
    "k=0\n",
    "threshold=0\n",
    "for k in range(0,200,1):\n",
    "       Threshold.append(threshold)\n",
    "       bin_pred= [] \n",
    "       binary=0\n",
    "       b = 0\n",
    "       for b in range(0, len(randompred), 1):\n",
    "           if randompred[b] >= threshold: binary= 1 \n",
    "           else: binary=0\n",
    "           bin_pred.append(binary)\n",
    "       MCC.append(matthews_corrcoef(c,bin_pred))\n",
    "       threshold=threshold+0.005\n",
    "\n",
    "maxpos = MCC.index(max(MCC))\n",
    "Threshold[maxpos]"
   ]
  },
  {
   "cell_type": "code",
   "execution_count": 48,
   "metadata": {},
   "outputs": [
    {
     "data": {
      "text/html": [
       "<div>\n",
       "<style scoped>\n",
       "    .dataframe tbody tr th:only-of-type {\n",
       "        vertical-align: middle;\n",
       "    }\n",
       "\n",
       "    .dataframe tbody tr th {\n",
       "        vertical-align: top;\n",
       "    }\n",
       "\n",
       "    .dataframe thead th {\n",
       "        text-align: right;\n",
       "    }\n",
       "</style>\n",
       "<table border=\"1\" class=\"dataframe\">\n",
       "  <thead>\n",
       "    <tr style=\"text-align: right;\">\n",
       "      <th></th>\n",
       "      <th>AUC</th>\n",
       "      <th>PR</th>\n",
       "      <th>ACC</th>\n",
       "      <th>Sen</th>\n",
       "      <th>Spec</th>\n",
       "      <th>MCC</th>\n",
       "    </tr>\n",
       "  </thead>\n",
       "  <tbody>\n",
       "    <tr>\n",
       "      <th>0</th>\n",
       "      <td>0.845</td>\n",
       "      <td>0.585</td>\n",
       "      <td>0.808</td>\n",
       "      <td>0.716</td>\n",
       "      <td>0.83</td>\n",
       "      <td>0.487</td>\n",
       "    </tr>\n",
       "  </tbody>\n",
       "</table>\n",
       "</div>"
      ],
      "text/plain": [
       "     AUC     PR    ACC    Sen  Spec    MCC\n",
       "0  0.845  0.585  0.808  0.716  0.83  0.487"
      ]
     },
     "execution_count": 48,
     "metadata": {},
     "output_type": "execute_result"
    }
   ],
   "source": [
    "from sklearn.metrics import roc_auc_score, matthews_corrcoef, accuracy_score, average_precision_score, confusion_matrix\n",
    "c = Puri_Disorder\n",
    "randompred = Puri_Spot\n",
    "bin_pred= [] \n",
    "binary=0\n",
    "b = 0\n",
    "for b in range(0, len(randompred), 1):\n",
    "    if randompred[b] >0.2100000: binary= 1 \n",
    "    else: binary=0\n",
    "    bin_pred.append(binary)\n",
    "res = pd.DataFrame(columns=['AUC','PR','ACC','Sen','Spec','MCC'], index=[0])\n",
    "res.loc[0, 'AUC'] = roc_auc_score(c, randompred)\n",
    "res.loc[0, 'PR'] = average_precision_score(c, randompred)\n",
    "cm = confusion_matrix(c, bin_pred)\n",
    "res.loc[0, 'ACC'] = accuracy_score(c, bin_pred)  \n",
    "res.loc[0, 'Sen'] = cm[1,1] / float (cm[1,0]+cm[1,1])\n",
    "res.loc[0, 'Spec'] = cm[0,0] / float (cm[0,0]+cm[0,1])\n",
    "res.loc[0, 'MCC'] = matthews_corrcoef(c, bin_pred)\n",
    "res.astype(float).round(3)"
   ]
  },
  {
   "cell_type": "code",
   "execution_count": 49,
   "metadata": {},
   "outputs": [
    {
     "data": {
      "text/plain": [
       "0.2100000000000001"
      ]
     },
     "execution_count": 49,
     "metadata": {},
     "output_type": "execute_result"
    }
   ],
   "source": [
    "from sklearn.metrics import roc_auc_score, matthews_corrcoef, accuracy_score, average_precision_score, confusion_matrix\n",
    "import matplotlib.pyplot as plt\n",
    "c = Puri_Disorder\n",
    "randompred =  Puri_Spot\n",
    "MCC=[]\n",
    "Threshold=[]\n",
    "k=0\n",
    "threshold=0\n",
    "for k in range(0,200,1):\n",
    "       Threshold.append(threshold)\n",
    "       bin_pred= [] \n",
    "       binary=0\n",
    "       b = 0\n",
    "       for b in range(0, len(randompred), 1):\n",
    "           if randompred[b] >= threshold: binary= 1 \n",
    "           else: binary=0\n",
    "           bin_pred.append(binary)\n",
    "       MCC.append(matthews_corrcoef(c,bin_pred))\n",
    "       threshold=threshold+0.005\n",
    "\n",
    "maxpos = MCC.index(max(MCC))\n",
    "Threshold[maxpos]"
   ]
  },
  {
   "cell_type": "code",
   "execution_count": 50,
   "metadata": {},
   "outputs": [
    {
     "data": {
      "text/html": [
       "<div>\n",
       "<style scoped>\n",
       "    .dataframe tbody tr th:only-of-type {\n",
       "        vertical-align: middle;\n",
       "    }\n",
       "\n",
       "    .dataframe tbody tr th {\n",
       "        vertical-align: top;\n",
       "    }\n",
       "\n",
       "    .dataframe thead th {\n",
       "        text-align: right;\n",
       "    }\n",
       "</style>\n",
       "<table border=\"1\" class=\"dataframe\">\n",
       "  <thead>\n",
       "    <tr style=\"text-align: right;\">\n",
       "      <th></th>\n",
       "      <th>AUC</th>\n",
       "      <th>PR</th>\n",
       "      <th>ACC</th>\n",
       "      <th>Sen</th>\n",
       "      <th>Spec</th>\n",
       "      <th>MCC</th>\n",
       "    </tr>\n",
       "  </thead>\n",
       "  <tbody>\n",
       "    <tr>\n",
       "      <th>0</th>\n",
       "      <td>0.851</td>\n",
       "      <td>0.609</td>\n",
       "      <td>0.82</td>\n",
       "      <td>0.712</td>\n",
       "      <td>0.847</td>\n",
       "      <td>0.507</td>\n",
       "    </tr>\n",
       "  </tbody>\n",
       "</table>\n",
       "</div>"
      ],
      "text/plain": [
       "     AUC     PR   ACC    Sen   Spec    MCC\n",
       "0  0.851  0.609  0.82  0.712  0.847  0.507"
      ]
     },
     "execution_count": 50,
     "metadata": {},
     "output_type": "execute_result"
    }
   ],
   "source": [
    "from sklearn.metrics import roc_auc_score, matthews_corrcoef, accuracy_score, average_precision_score, confusion_matrix\n",
    "c = Puri_Disorder\n",
    "randompred = Puri_Consensus\n",
    "bin_pred= [] \n",
    "binary=0\n",
    "b = 0\n",
    "for b in range(0, len(randompred), 1):\n",
    "    if randompred[b] >= 0.045: binary= 1 \n",
    "    else: binary=0\n",
    "    bin_pred.append(binary)\n",
    "res = pd.DataFrame(columns=['AUC','PR','ACC','Sen','Spec','MCC'], index=[0])\n",
    "res.loc[0, 'AUC'] = roc_auc_score(c, randompred)\n",
    "res.loc[0, 'PR'] = average_precision_score(c, randompred)\n",
    "cm = confusion_matrix(c, bin_pred)\n",
    "res.loc[0, 'ACC'] = accuracy_score(c, bin_pred)  \n",
    "res.loc[0, 'Sen'] = cm[1,1] / float (cm[1,0]+cm[1,1])\n",
    "res.loc[0, 'Spec'] = cm[0,0] / float (cm[0,0]+cm[0,1])\n",
    "res.loc[0, 'MCC'] = matthews_corrcoef(c,bin_pred)\n",
    "res.astype(float).round(3)"
   ]
  },
  {
   "cell_type": "code",
   "execution_count": 51,
   "metadata": {},
   "outputs": [
    {
     "data": {
      "text/plain": [
       "0.045"
      ]
     },
     "execution_count": 51,
     "metadata": {},
     "output_type": "execute_result"
    }
   ],
   "source": [
    "from sklearn.metrics import roc_auc_score, matthews_corrcoef, accuracy_score, average_precision_score, confusion_matrix\n",
    "import matplotlib.pyplot as plt\n",
    "c = Puri_Disorder\n",
    "randompred = Puri_Consensus\n",
    "MCC=[]\n",
    "Threshold=[]\n",
    "k=0\n",
    "threshold=0\n",
    "for k in range(0,200,1):\n",
    "       Threshold.append(threshold)\n",
    "       bin_pred= [] \n",
    "       binary=0\n",
    "       b = 0\n",
    "       for b in range(0, len(randompred), 1):\n",
    "           if randompred[b] >= threshold: binary= 1 \n",
    "           else: binary=0\n",
    "           bin_pred.append(binary)\n",
    "       MCC.append(matthews_corrcoef(c,bin_pred))\n",
    "       threshold=threshold+0.005\n",
    "\n",
    "maxpos = MCC.index(max(MCC))\n",
    "Threshold[maxpos]"
   ]
  },
  {
   "cell_type": "code",
   "execution_count": 52,
   "metadata": {},
   "outputs": [
    {
     "data": {
      "text/plain": [
       "0.045"
      ]
     },
     "execution_count": 52,
     "metadata": {},
     "output_type": "execute_result"
    }
   ],
   "source": [
    "maxpos = MCC.index(max(MCC))\n",
    "Threshold[maxpos]"
   ]
  },
  {
   "cell_type": "code",
   "execution_count": 53,
   "metadata": {},
   "outputs": [
    {
     "data": {
      "text/plain": [
       "0.25"
      ]
     },
     "execution_count": 53,
     "metadata": {},
     "output_type": "execute_result"
    }
   ],
   "source": [
    "import statistics\n",
    "IUPL_PosScore= [] \n",
    "IUPL_NegScore= [] \n",
    "b = 0\n",
    "for b in range(0, len(Puri_Disorder), 1):\n",
    "    if Puri_Disorder[b]==1:IUPL_PosScore.append(Puri_IUPL[b])\n",
    "    else:IUPL_NegScore.append(Puri_IUPL[b])\n",
    "IUPL_Posmedian=statistics.median(IUPL_PosScore)\n",
    "IUPL_Negmedian=statistics.median(IUPL_NegScore)\n",
    "IUPL_Threshold = (IUPL_Posmedian+IUPL_Negmedian)/2\n",
    "len(IUPL_PosScore)/len(IUPL_NegScore)"
   ]
  },
  {
   "cell_type": "code",
   "execution_count": 54,
   "metadata": {},
   "outputs": [
    {
     "data": {
      "image/png": "[encoded data removed]",
      "text/plain": [
       "<Figure size 720x576 with 1 Axes>"
      ]
     },
     "metadata": {
      "needs_background": "light"
     },
     "output_type": "display_data"
    }
   ],
   "source": [
    "import matplotlib.pyplot as plt\n",
    "from sklearn.metrics import roc_curve, auc\n",
    "fig = plt.figure(figsize=(10,8))\n",
    "lw = 2\n",
    "###############################################################################################################################\n",
    "Score =np.array(Puri_Consensus,dtype=np.float)\n",
    "c=np.array(c,dtype=np.float)\n",
    "fpr = dict()\n",
    "tpr = dict()\n",
    "roc_auc = dict()\n",
    "for i in range(2):\n",
    "    fpr[i], tpr[i], _ = roc_curve(c, Score)\n",
    "    roc_auc[i] = auc(fpr[i], tpr[i])\n",
    "# Compute micro-average ROC curve and ROC area\n",
    "fpr[\"micro\"], tpr[\"micro\"], _ = roc_curve(c.ravel(), Score.ravel())\n",
    "roc_auc[\"micro\"] = auc(fpr[\"micro\"], tpr[\"micro\"])\n",
    "plt.plot(fpr[1], tpr[1], color='magenta',\n",
    "         lw=lw, label='Disorder Consensus Model (area = %0.3f)' % 0.853)\n",
    "##############################################################################################################################\n",
    "ScoreAn =np.array(Puri_Spot,dtype=np.float)\n",
    "c=np.array(c,dtype=np.float)\n",
    "fprAn = dict()\n",
    "tprAn = dict()\n",
    "roc_aucAn = dict()\n",
    "for i in range(2):\n",
    "    fprAn[i], tprAn[i], _ = roc_curve(c, ScoreAn)\n",
    "    roc_aucAn[i] = auc(fprAn[i], tprAn[i])\n",
    "# Compute micro-average ROC curve and ROC area\n",
    "fprAn[\"micro\"], tprAn[\"micro\"], _ = roc_curve(c.ravel(), ScoreAn.ravel())\n",
    "roc_aucAn[\"micro\"] = auc(fprAn[\"micro\"], tprAn[\"micro\"])\n",
    "plt.plot(fprAn[1], tprAn[1], color='g',\n",
    "         lw=lw, label='SPOT Disorder(area = %0.3f)' % roc_aucAn[1])\n",
    "################################################################################################################################\n",
    "ScoreDp =np.array(Puri_IUPL,dtype=np.float)\n",
    "c=np.array(c,dtype=np.float)\n",
    "fprDp = dict()\n",
    "tprDp = dict()\n",
    "roc_aucDp = dict()\n",
    "for i in range(2):\n",
    "    fprDp[i], tprDp[i], _ = roc_curve(c, ScoreDp)\n",
    "    roc_aucDp[i] = auc(fprDp[i], tprDp[i])\n",
    "# Compute micro-average ROC curve and ROC area\n",
    "fprDp[\"micro\"], tprDp[\"micro\"], _ = roc_curve(c.ravel(), ScoreDp.ravel())\n",
    "roc_aucDp[\"micro\"] = auc(fprDp[\"micro\"], tprDp[\"micro\"])\n",
    "plt.plot(fprDp[1], tprDp[1], color='orange',\n",
    "         lw=lw, label='IUPRED LONG(area = %0.3f)' % roc_aucDp[1])\n",
    "##############################################################################################################################\n",
    "ScoreDp =np.array(Puri_IUPS,dtype=np.float)\n",
    "c=np.array(c,dtype=np.float)\n",
    "fprDp = dict()\n",
    "tprDp = dict()\n",
    "roc_aucDp = dict()\n",
    "for i in range(2):\n",
    "    fprDp[i], tprDp[i], _ = roc_curve(c, ScoreDp)\n",
    "    roc_aucDp[i] = auc(fprDp[i], tprDp[i])\n",
    "# Compute micro-average ROC curve and ROC area\n",
    "fprDp[\"micro\"], tprDp[\"micro\"], _ = roc_curve(c.ravel(), ScoreDp.ravel())\n",
    "roc_aucDp[\"micro\"] = auc(fprDp[\"micro\"], tprDp[\"micro\"])\n",
    "plt.plot(fprDp[1], tprDp[1], color='b',\n",
    "         lw=lw, label='IUPRED SHORT(area = %0.3f)' % roc_aucDp[1])\n",
    "############################################################################################################\n",
    "plt.plot([0, 1], [0, 1], color='navy', lw=lw, linestyle='--')\n",
    "plt.xlim([0.0,1.0])\n",
    "plt.ylim([0.0,1.0])\n",
    "plt.xlabel('False Positive Rate')\n",
    "plt.ylabel('True Positive Rate')\n",
    "plt.title('Disorder Prediction AUC')\n",
    "#plt.legend(loc=\"lower right\")\n",
    "#plt.savefig('Disorder_AUC.tiff', bbox_inches='tight',quality =95,orientation ='landscape',dpi =800)\n",
    "plt.show()"
   ]
  },
  {
   "cell_type": "code",
   "execution_count": 55,
   "metadata": {},
   "outputs": [
    {
     "data": {
      "image/png": "[encoded data removed]",
      "text/plain": [
       "<Figure size 720x576 with 1 Axes>"
      ]
     },
     "metadata": {
      "needs_background": "light"
     },
     "output_type": "display_data"
    }
   ],
   "source": [
    "from sklearn.metrics import precision_recall_curve\n",
    "import matplotlib.pyplot as plt\n",
    "from inspect import signature\n",
    "fig = plt.figure(figsize=(10,8))\n",
    "##############################################################################################\n",
    "Score=Puri_Consensus\n",
    "label=c\n",
    "precision, recall, _ = precision_recall_curve(label, Score)\n",
    "plt.plot(recall, precision, color='magenta',lw=2,label='Consensus Model(area = %0.3f)' % 0.611)\n",
    "##############################################################################################\n",
    "Score=Puri_Spot\n",
    "label=c\n",
    "precision, recall, _ = precision_recall_curve(label, Score)\n",
    "plt.plot(recall, precision, color='g',lw=2,label='SPOT Disorder(area = %0.3f)' % 0.585)\n",
    "##############################################################################################\n",
    "Score=Puri_IUPL\n",
    "label=c\n",
    "precision, recall, _ = precision_recall_curve(label, Score)\n",
    "plt.plot(recall, precision, color='orange',lw=2,label='IUPRED LONG(area = %0.3f)' % 0.525)\n",
    "##############################################################################################\n",
    "Score=Puri_IUPS\n",
    "label=c\n",
    "precision, recall, _ = precision_recall_curve(label, Score)\n",
    "plt.plot(recall, precision, color='b',lw=2,label='IUPRED SHORT(area = %0.3f)' % 0.485)\n",
    "##############################################################################################\n",
    "plt.xlabel('Recall')\n",
    "plt.ylabel('Precision')\n",
    "plt.legend(loc=\"upper right\")\n",
    "plt.ylim([0.0, 1.0])\n",
    "plt.xlim([0.0, 1.0])\n",
    "plt.title('Disorder Precision-Recall curve')\n",
    "#plt.savefig('Disorder_PR.tiff', bbox_inches='tight',quality =95,orientation ='landscape',dpi =800)\n",
    "plt.show()"
   ]
  },
  {
   "cell_type": "code",
   "execution_count": 56,
   "metadata": {},
   "outputs": [
    {
     "data": {
      "text/plain": [
       "103525"
      ]
     },
     "execution_count": 56,
     "metadata": {},
     "output_type": "execute_result"
    }
   ],
   "source": [
    "len(Puri_IUPL)"
   ]
  },
  {
   "cell_type": "code",
   "execution_count": 57,
   "metadata": {},
   "outputs": [],
   "source": [
    "import random\n",
    "import scipy\n",
    "from sklearn.metrics import roc_auc_score\n",
    "IUPL_AUC=[]\n",
    "IUPS_AUC=[]\n",
    "Spot_AUC=[]\n",
    "Consensus_AUC=[]\n",
    "g=0\n",
    "for g in range(0,10,1):\n",
    "       Random_50_Residues = random.sample(range(0,103525),65263)\n",
    "       Disorder_Annotation=[]\n",
    "       IUPL_Score=[]\n",
    "       IUPS_Score=[]\n",
    "       Spot_Score=[]\n",
    "       Consensus_Score=[]\n",
    "       b=0\n",
    "       for b in Random_50_Residues:\n",
    "                Disorder_Annotation.append(Puri_Disorder[b])\n",
    "                IUPL_Score.append(Puri_IUPL[b])\n",
    "                IUPS_Score.append(Puri_IUPS[b])\n",
    "                Spot_Score.append(Puri_Spot[b])\n",
    "                Consensus_Score.append(Puri_Consensus[b])                        \n",
    "       iupl_auc=average_precision_score(Disorder_Annotation, IUPL_Score)\n",
    "       iups_auc=average_precision_score(Disorder_Annotation, IUPS_Score)\n",
    "       spot_auc=average_precision_score(Disorder_Annotation, Spot_Score)\n",
    "       consensus_auc=average_precision_score(Disorder_Annotation,Consensus_Score)\n",
    "       IUPL_AUC.append(iupl_auc)\n",
    "       IUPS_AUC.append(iups_auc)\n",
    "       Spot_AUC.append(spot_auc)\n",
    "       Consensus_AUC.append(consensus_auc)"
   ]
  },
  {
   "cell_type": "code",
   "execution_count": 58,
   "metadata": {},
   "outputs": [],
   "source": [
    "A=Consensus_AUC\n",
    "B=IUPL_AUC\n",
    "test_stat, critical_values, siglevel = scipy.stats.anderson(A, 'norm')\n",
    "is_normal_A = test_stat < critical_values[2]\n",
    "test_stat, critical_values, siglevel = scipy.stats.anderson(B, 'norm')\n",
    "is_normal_B = test_stat < critical_values[2]\n",
    "if is_normal_A and is_normal_B:\n",
    "\t# if both of them are normally distributed, we use t-test\n",
    "\ttest_stat, p_val = scipy.stats.ttest_ind(A, B)\n",
    "else:\n",
    "\t# else we do Anderson-Darling rank-sum test\n",
    "\tt_stat, p_val = scipy.stats.ranksums(A, B)\n",
    "P_IUPL=p_val\n",
    "############################################################################################################A=Consensus_AUC\n",
    "A=Consensus_AUC\n",
    "B=IUPS_AUC\n",
    "test_stat, critical_values, siglevel = scipy.stats.anderson(A, 'norm')\n",
    "is_normal_A = test_stat < critical_values[2]\n",
    "test_stat, critical_values, siglevel = scipy.stats.anderson(B, 'norm')\n",
    "is_normal_B = test_stat < critical_values[2]\n",
    "if is_normal_A and is_normal_B:\n",
    "\t# if both of them are normally distributed, we use t-test\n",
    "\ttest_stat, p_val = scipy.stats.ttest_ind(A, B)\n",
    "else:\n",
    "\t# else we do Anderson-Darling rank-sum test\n",
    "\tt_stat, p_val = scipy.stats.ranksums(A, B)\n",
    "P_IUPS=p_val\n",
    "############################################################################################################A=Consensus_AUC\n",
    "A=Consensus_AUC\n",
    "B=Spot_AUC\n",
    "test_stat, critical_values, siglevel = scipy.stats.anderson(A, 'norm')\n",
    "is_normal_A = test_stat < critical_values[2]\n",
    "test_stat, critical_values, siglevel = scipy.stats.anderson(B, 'norm')\n",
    "is_normal_B = test_stat < critical_values[2]\n",
    "if is_normal_A and is_normal_B:\n",
    "\t# if both of them are normally distributed, we use t-test\n",
    "\ttest_stat, p_val = scipy.stats.ttest_ind(A, B)\n",
    "else:\n",
    "\t# else we do Anderson-Darling rank-sum test\n",
    "\tt_stat, p_val = scipy.stats.ranksums(A, B)\n",
    "P_Spot=p_val"
   ]
  },
  {
   "cell_type": "code",
   "execution_count": 59,
   "metadata": {},
   "outputs": [
    {
     "name": "stdout",
     "output_type": "stream",
     "text": [
      "5.517844760352851e-24\n",
      "3.1097002237352582e-27\n",
      "6.759552247407202e-14\n"
     ]
    }
   ],
   "source": [
    "print(P_IUPL)\n",
    "print(P_IUPS)\n",
    "print(P_Spot)"
   ]
  },
  {
   "cell_type": "code",
   "execution_count": 62,
   "metadata": {},
   "outputs": [
    {
     "name": "stdout",
     "output_type": "stream",
     "text": [
      "1.0\n",
      "0.0\n",
      "1.0\n",
      "0.0\n",
      "0.974\n",
      "0.003\n",
      "0.8627678\n",
      "0.00022553565\n"
     ]
    }
   ],
   "source": [
    "print(max(Puri_IUPL))\n",
    "print(min(Puri_IUPL))\n",
    "print(max(Puri_IUPS))\n",
    "print(min(Puri_IUPS))\n",
    "print(max(Puri_Spot))\n",
    "print(min(Puri_Spot))\n",
    "print(max(Puri_Consensus))\n",
    "print(min(Puri_Consensus))"
   ]
  }
 ],
 "metadata": {
  "kernelspec": {
   "display_name": "Python 3",
   "language": "python",
   "name": "python3"
  },
  "language_info": {
   "codemirror_mode": {
    "name": "ipython",
    "version": 3
   },
   "file_extension": ".py",
   "mimetype": "text/x-python",
   "name": "python",
   "nbconvert_exporter": "python",
   "pygments_lexer": "ipython3",
   "version": "3.7.7"
  }
 },
 "nbformat": 4,
 "nbformat_minor": 2
}
