{
 "cells": [
  {
   "cell_type": "code",
   "execution_count": 1,
   "metadata": {},
   "outputs": [
    {
     "data": {
      "text/html": [
       "<div>\n",
       "<style scoped>\n",
       "    .dataframe tbody tr th:only-of-type {\n",
       "        vertical-align: middle;\n",
       "    }\n",
       "\n",
       "    .dataframe tbody tr th {\n",
       "        vertical-align: top;\n",
       "    }\n",
       "\n",
       "    .dataframe thead th {\n",
       "        text-align: right;\n",
       "    }\n",
       "</style>\n",
       "<table border=\"1\" class=\"dataframe\">\n",
       "  <thead>\n",
       "    <tr style=\"text-align: right;\">\n",
       "      <th></th>\n",
       "      <th>Unnamed: 0</th>\n",
       "      <th>Spot_PredictionScore</th>\n",
       "      <th>Spot_BinaryPredictions</th>\n",
       "      <th>Spot_Prediction_ScoreWindow</th>\n",
       "      <th>Spot_Prediction_ScoreWindowWeighted</th>\n",
       "      <th>Spot_Prediction_ScoreWindowDiff</th>\n",
       "      <th>Spot_Binary_PredictionWindow</th>\n",
       "      <th>Spot_Binary_PredictionWindowWeighted</th>\n",
       "      <th>Spot_Binary_PredictionWindowDiff</th>\n",
       "      <th>Spot_Prediction_Score_Up</th>\n",
       "      <th>...</th>\n",
       "      <th>New_Score3Window</th>\n",
       "      <th>New_Score3WindowWeighted</th>\n",
       "      <th>New_Score3WindowDiff</th>\n",
       "      <th>New_Binary1</th>\n",
       "      <th>New_Binary1Window</th>\n",
       "      <th>New_Binary1WindowWeighted</th>\n",
       "      <th>New_Binary1WindowDiff</th>\n",
       "      <th>Terminal_Distance</th>\n",
       "      <th>Terminal_Distance10</th>\n",
       "      <th>Disorder_Annotation</th>\n",
       "    </tr>\n",
       "  </thead>\n",
       "  <tbody>\n",
       "    <tr>\n",
       "      <th>0</th>\n",
       "      <td>0</td>\n",
       "      <td>0.887173</td>\n",
       "      <td>1</td>\n",
       "      <td>0.870330</td>\n",
       "      <td>0.147062</td>\n",
       "      <td>0.738924</td>\n",
       "      <td>1.000000</td>\n",
       "      <td>0.166667</td>\n",
       "      <td>0.4</td>\n",
       "      <td>0.887173</td>\n",
       "      <td>...</td>\n",
       "      <td>0.171882</td>\n",
       "      <td>0.029086</td>\n",
       "      <td>0.134295</td>\n",
       "      <td>0</td>\n",
       "      <td>0.0</td>\n",
       "      <td>0.0</td>\n",
       "      <td>0.0</td>\n",
       "      <td>0.000000</td>\n",
       "      <td>0</td>\n",
       "      <td>1</td>\n",
       "    </tr>\n",
       "    <tr>\n",
       "      <th>1</th>\n",
       "      <td>1</td>\n",
       "      <td>0.912274</td>\n",
       "      <td>1</td>\n",
       "      <td>0.859450</td>\n",
       "      <td>0.126894</td>\n",
       "      <td>0.718773</td>\n",
       "      <td>1.000000</td>\n",
       "      <td>0.142857</td>\n",
       "      <td>0.2</td>\n",
       "      <td>0.887173</td>\n",
       "      <td>...</td>\n",
       "      <td>0.175502</td>\n",
       "      <td>0.023128</td>\n",
       "      <td>0.116780</td>\n",
       "      <td>0</td>\n",
       "      <td>0.0</td>\n",
       "      <td>0.0</td>\n",
       "      <td>0.0</td>\n",
       "      <td>0.009524</td>\n",
       "      <td>1</td>\n",
       "      <td>1</td>\n",
       "    </tr>\n",
       "    <tr>\n",
       "      <th>2</th>\n",
       "      <td>2</td>\n",
       "      <td>0.896730</td>\n",
       "      <td>1</td>\n",
       "      <td>0.846322</td>\n",
       "      <td>0.108908</td>\n",
       "      <td>0.704024</td>\n",
       "      <td>1.000000</td>\n",
       "      <td>0.125000</td>\n",
       "      <td>0.0</td>\n",
       "      <td>0.912274</td>\n",
       "      <td>...</td>\n",
       "      <td>0.173860</td>\n",
       "      <td>0.022140</td>\n",
       "      <td>0.105836</td>\n",
       "      <td>0</td>\n",
       "      <td>0.0</td>\n",
       "      <td>0.0</td>\n",
       "      <td>0.0</td>\n",
       "      <td>0.019048</td>\n",
       "      <td>2</td>\n",
       "      <td>1</td>\n",
       "    </tr>\n",
       "    <tr>\n",
       "      <th>3</th>\n",
       "      <td>3</td>\n",
       "      <td>0.854527</td>\n",
       "      <td>1</td>\n",
       "      <td>0.833087</td>\n",
       "      <td>0.093950</td>\n",
       "      <td>0.698903</td>\n",
       "      <td>0.888889</td>\n",
       "      <td>0.105556</td>\n",
       "      <td>0.0</td>\n",
       "      <td>0.896730</td>\n",
       "      <td>...</td>\n",
       "      <td>0.166102</td>\n",
       "      <td>0.020059</td>\n",
       "      <td>0.107216</td>\n",
       "      <td>0</td>\n",
       "      <td>0.0</td>\n",
       "      <td>0.0</td>\n",
       "      <td>0.0</td>\n",
       "      <td>0.028571</td>\n",
       "      <td>3</td>\n",
       "      <td>1</td>\n",
       "    </tr>\n",
       "    <tr>\n",
       "      <th>4</th>\n",
       "      <td>4</td>\n",
       "      <td>0.848592</td>\n",
       "      <td>1</td>\n",
       "      <td>0.822364</td>\n",
       "      <td>0.083305</td>\n",
       "      <td>0.694014</td>\n",
       "      <td>0.800000</td>\n",
       "      <td>0.089000</td>\n",
       "      <td>0.0</td>\n",
       "      <td>0.854527</td>\n",
       "      <td>...</td>\n",
       "      <td>0.160606</td>\n",
       "      <td>0.016245</td>\n",
       "      <td>0.110341</td>\n",
       "      <td>0</td>\n",
       "      <td>0.0</td>\n",
       "      <td>0.0</td>\n",
       "      <td>0.0</td>\n",
       "      <td>0.038095</td>\n",
       "      <td>4</td>\n",
       "      <td>1</td>\n",
       "    </tr>\n",
       "  </tbody>\n",
       "</table>\n",
       "<p>5 rows × 56 columns</p>\n",
       "</div>"
      ],
      "text/plain": [
       "   Unnamed: 0  Spot_PredictionScore  Spot_BinaryPredictions  \\\n",
       "0           0              0.887173                       1   \n",
       "1           1              0.912274                       1   \n",
       "2           2              0.896730                       1   \n",
       "3           3              0.854527                       1   \n",
       "4           4              0.848592                       1   \n",
       "\n",
       "   Spot_Prediction_ScoreWindow  Spot_Prediction_ScoreWindowWeighted  \\\n",
       "0                     0.870330                             0.147062   \n",
       "1                     0.859450                             0.126894   \n",
       "2                     0.846322                             0.108908   \n",
       "3                     0.833087                             0.093950   \n",
       "4                     0.822364                             0.083305   \n",
       "\n",
       "   Spot_Prediction_ScoreWindowDiff  Spot_Binary_PredictionWindow  \\\n",
       "0                         0.738924                      1.000000   \n",
       "1                         0.718773                      1.000000   \n",
       "2                         0.704024                      1.000000   \n",
       "3                         0.698903                      0.888889   \n",
       "4                         0.694014                      0.800000   \n",
       "\n",
       "   Spot_Binary_PredictionWindowWeighted  Spot_Binary_PredictionWindowDiff  \\\n",
       "0                              0.166667                               0.4   \n",
       "1                              0.142857                               0.2   \n",
       "2                              0.125000                               0.0   \n",
       "3                              0.105556                               0.0   \n",
       "4                              0.089000                               0.0   \n",
       "\n",
       "   Spot_Prediction_Score_Up  ...  New_Score3Window  New_Score3WindowWeighted  \\\n",
       "0                  0.887173  ...          0.171882                  0.029086   \n",
       "1                  0.887173  ...          0.175502                  0.023128   \n",
       "2                  0.912274  ...          0.173860                  0.022140   \n",
       "3                  0.896730  ...          0.166102                  0.020059   \n",
       "4                  0.854527  ...          0.160606                  0.016245   \n",
       "\n",
       "   New_Score3WindowDiff  New_Binary1  New_Binary1Window  \\\n",
       "0              0.134295            0                0.0   \n",
       "1              0.116780            0                0.0   \n",
       "2              0.105836            0                0.0   \n",
       "3              0.107216            0                0.0   \n",
       "4              0.110341            0                0.0   \n",
       "\n",
       "   New_Binary1WindowWeighted  New_Binary1WindowDiff  Terminal_Distance  \\\n",
       "0                        0.0                    0.0           0.000000   \n",
       "1                        0.0                    0.0           0.009524   \n",
       "2                        0.0                    0.0           0.019048   \n",
       "3                        0.0                    0.0           0.028571   \n",
       "4                        0.0                    0.0           0.038095   \n",
       "\n",
       "   Terminal_Distance10  Disorder_Annotation  \n",
       "0                    0                    1  \n",
       "1                    1                    1  \n",
       "2                    2                    1  \n",
       "3                    3                    1  \n",
       "4                    4                    1  \n",
       "\n",
       "[5 rows x 56 columns]"
      ]
     },
     "execution_count": 1,
     "metadata": {},
     "output_type": "execute_result"
    }
   ],
   "source": [
    "import pandas as pd\n",
    "file_training_set = (r\"C:\\Users\\katuwawalaai\\Disorder_Super\\Consensus_Modelling\\TrainingSet_Featuers(942_54).csv\")\n",
    "TrainingSet = pd.read_csv(file_training_set)\n",
    "TrainingSet.head()"
   ]
  },
  {
   "cell_type": "code",
   "execution_count": 61,
   "metadata": {},
   "outputs": [
    {
     "data": {
      "image/png": "[encoded data removed]",
      "text/plain": [
       "<Figure size 576x576 with 1 Axes>"
      ]
     },
     "metadata": {},
     "output_type": "display_data"
    }
   ],
   "source": [
    "import seaborn as sns\n",
    "import matplotlib.pyplot as plt\n",
    "\n",
    "sns.set(style=\"whitegrid\")\n",
    "\n",
    "# Subset the  dataset by Label\n",
    "Disorder= TrainingSet.query('Disorder_Annotation==1')\n",
    "Order= TrainingSet.query('Disorder_Annotation==0') \n",
    "# Set up the figure\n",
    "f, ax = plt.subplots(figsize=(8,8))\n",
    "ax.set_aspect(\"equal\")\n",
    "\n",
    "# Draw the two density plots\n",
    "ax = sns.kdeplot(Disorder.Spot_Prediction_ScoreWindowDiff, Disorder.IUPL_Prediction_ScoreWindowDiff,\n",
    "                 cmap=\"Reds\", shade=True, shade_lowest=False)\n",
    "#ax = sns.kdeplot(Order.Spot_Prediction_ScoreWindowDiff, Order.IUPL_Prediction_ScoreWindowDiff,\n",
    "#                 cmap=\"Blues\", shade=True, shade_lowest=False)\n",
    "\n",
    "# Add labels to the plot\n",
    "red = sns.color_palette(\"Reds\")[-2]\n",
    "#blue = sns.color_palette(\"Blues\")[-2]\n",
    "ax.text(1.0, 1.0, \"Disorder\", size=16, color=red)\n",
    "#ax.text(0.1, 0.1, \"Order\", size=16, color=blue)\n",
    "plt.savefig('Two_Scores_D.tiff', bbox_inches='tight',quality =95,orientation ='landscape',dpi =800)\n",
    "plt.show()"
   ]
  },
  {
   "cell_type": "code",
   "execution_count": 26,
   "metadata": {},
   "outputs": [],
   "source": [
    "Spot_ScoreWindowDiff = list(TrainingSet.loc[:,('Spot_Prediction_ScoreWindowDiff')].values)\n",
    "Consensus_ScoreWindowDiff= list(TrainingSet.loc[:,('Consensus_ScoreWindowDiff')].values)\n",
    "y=list(TrainingSet.loc[:,('Disorder_Annotation')].values)"
   ]
  },
  {
   "cell_type": "code",
   "execution_count": 59,
   "metadata": {},
   "outputs": [],
   "source": [
    "Mod_Score=[]\n",
    "b=0\n",
    "for b in range(0,len(Spot_ScoreWindowDiff),1):\n",
    "                if Spot_ScoreWindowDiff[b]<0.4 and Consensus_ScoreWindowDiff[b]<0.4:Mod_Score.append(0.2)\n",
    "                elif Spot_ScoreWindowDiff[b]>0.6 and Consensus_ScoreWindowDiff[b]>0.6:Mod_Score.append(0.9)\n",
    "                else:Mod_Score.append(0.5)"
   ]
  },
  {
   "cell_type": "code",
   "execution_count": 31,
   "metadata": {},
   "outputs": [
    {
     "data": {
      "text/plain": [
       "412380"
      ]
     },
     "execution_count": 31,
     "metadata": {},
     "output_type": "execute_result"
    }
   ],
   "source": [
    "len(Spot_ScoreWindowDiff)"
   ]
  },
  {
   "cell_type": "code",
   "execution_count": 32,
   "metadata": {},
   "outputs": [
    {
     "data": {
      "text/plain": [
       "412380"
      ]
     },
     "execution_count": 32,
     "metadata": {},
     "output_type": "execute_result"
    }
   ],
   "source": [
    "len(Mod_Score)"
   ]
  },
  {
   "cell_type": "code",
   "execution_count": 58,
   "metadata": {},
   "outputs": [
    {
     "data": {
      "text/plain": [
       "0.8054598392389731"
      ]
     },
     "execution_count": 58,
     "metadata": {},
     "output_type": "execute_result"
    }
   ],
   "source": [
    "from sklearn.metrics import roc_auc_score, matthews_corrcoef, accuracy_score, average_precision_score, confusion_matrix\n",
    "roc_auc_score(y, Mod_Score)"
   ]
  },
  {
   "cell_type": "code",
   "execution_count": null,
   "metadata": {},
   "outputs": [],
   "source": []
  }
 ],
 "metadata": {
  "kernelspec": {
   "display_name": "Python 3",
   "language": "python",
   "name": "python3"
  },
  "language_info": {
   "codemirror_mode": {
    "name": "ipython",
    "version": 3
   },
   "file_extension": ".py",
   "mimetype": "text/x-python",
   "name": "python",
   "nbconvert_exporter": "python",
   "pygments_lexer": "ipython3",
   "version": "3.7.4"
  }
 },
 "nbformat": 4,
 "nbformat_minor": 2
}
